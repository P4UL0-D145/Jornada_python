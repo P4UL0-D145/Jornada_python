{
 "cells": [
  {
   "cell_type": "code",
   "execution_count": null,
   "metadata": {},
   "outputs": [],
   "source": [
    "# objetivo do projeto\n",
    "# analisar uma base de dados e reduzir o percentual de cancelamento dessa base\n",
    "# passo a passo do projeto\n",
    "# ler a base de dados de cancelamentos\n",
    "# tratar os dados para obter somente dados uteis para analise\n",
    "# visualizar os dados tratado em um grafico\n",
    "# entregar uma base limpa e com o percentual de cancelamento aceitavel\n",
    "\n",
    "# necessario instalação das bibliotecas\n",
    "# pip install pandas\n",
    "# pip install plotly\n",
    "# pip install nbformat"
   ]
  },
  {
   "cell_type": "code",
   "execution_count": null,
   "metadata": {},
   "outputs": [],
   "source": [
    "# import de biblioteca\n",
    "import pandas as pd\n",
    "\n",
    "# leitura da base de dados cancelamentos\n",
    "df = pd.read_csv(\"cancelamentos.csv\")\n",
    "df = df.drop(\"CustomerID\", axis=1) # remoçao de campo desnecessario para analise\n",
    "\n",
    "# visualição da tabela\n",
    "display(df)"
   ]
  },
  {
   "cell_type": "code",
   "execution_count": null,
   "metadata": {},
   "outputs": [],
   "source": [
    "# verificar informações da tabela\n",
    "display(df.info())\n",
    "df = df.dropna() # apagar valores nulos\n",
    "display(df.info()) # verificar informações da tabela"
   ]
  },
  {
   "cell_type": "code",
   "execution_count": null,
   "metadata": {},
   "outputs": [],
   "source": [
    "# quantas pessoas cancelaram e não cancelaram\n",
    "display(df[\"cancelou\"].value_counts()) # valor de clientes que cancelaram o serviço\n",
    "display(df[\"cancelou\"].value_counts(normalize=True).map(\"{:.1%}\".format)) # percentual de clientes que cancelaram o serviço"
   ]
  },
  {
   "cell_type": "code",
   "execution_count": null,
   "metadata": {},
   "outputs": [],
   "source": [
    "# proporção de contratos na base\n",
    "display(df[\"duracao_contrato\"].value_counts(normalize=True).map(\"{:.1%}\".format))\n",
    "display(df[\"duracao_contrato\"].value_counts())"
   ]
  },
  {
   "cell_type": "code",
   "execution_count": null,
   "metadata": {},
   "outputs": [],
   "source": [
    "# analise de cancelamentos por contratos\n",
    "display(df.groupby(\"duracao_contrato\").mean(numeric_only=True))\n",
    "# media dos contratos mensais é igual a 1 ou seja todos os contratos mensais foram cancelados"
   ]
  },
  {
   "cell_type": "code",
   "execution_count": null,
   "metadata": {},
   "outputs": [],
   "source": [
    "# descobrimos que os contratos mensais são ruins então iremos remover ele da nossa base \n",
    "df = df[df[\"duracao_contrato\"] != \"Monthly\"]\n",
    "display(df)\n",
    "\n",
    "# percentual de cancelamentos sem contrato mensal\n",
    "display(df[\"cancelou\"].value_counts())\n",
    "display(df[\"cancelou\"].value_counts(normalize=True).map(\"{:.1%}\".format))"
   ]
  },
  {
   "cell_type": "code",
   "execution_count": null,
   "metadata": {},
   "outputs": [],
   "source": [
    "# percetual de cancelamento esta alto, vamos verificar a assinatura nessa analise\n",
    "display(df[\"assinatura\"].value_counts(normalize=True).map(\"{:.1%}\".format))\n",
    "display(df.groupby(\"assinatura\").mean(numeric_only=True))"
   ]
  },
  {
   "cell_type": "code",
   "execution_count": null,
   "metadata": {},
   "outputs": [],
   "source": [
    "# as 3 assinaturas estão quase em 1/3 da base\n",
    "# criaremos um grafico histograma para consultar os dados de cancelamentos\n",
    "import plotly.express as px\n",
    "\n",
    "# criar um grafico comparativo para cada coluna baseado na coluna de cancelou\n",
    "for coluna in df.columns:\n",
    "  grafico = px.histogram(df, x=coluna, color=\"cancelou\", width=600)\n",
    "  grafico.show()"
   ]
  },
  {
   "cell_type": "code",
   "execution_count": null,
   "metadata": {},
   "outputs": [],
   "source": [
    "# com os graficos descobirmos muitas coisas\n",
    "# dias atraso acima de 20 dias, 100% cancelam\n",
    "# ligações de call center acima de 5, 100% cancelam\n",
    "# idade acima de 50 anos, 100% cancelam\n",
    "\n",
    "# com base nas informações dos graficos passaremos os filtros a seguir\n",
    "df = df[df[\"ligacoes_callcenter\"] < 5] # filtrar ligações menores que 5\n",
    "df = df[df[\"dias_atraso\"]<= 20] # filtrar dias de atraso menor igual a 20\n",
    "df = df[df[\"idade\"] <= 50] # filtrar idade menor igual a 50\n",
    "\n",
    "display(df)\n",
    "# quantidade de cancelamento após os filtros\n",
    "display(df[\"cancelou\"].value_counts())\n",
    "display(df[\"cancelou\"].value_counts(normalize=True).map(\"{:.1%}\".format))"
   ]
  }
 ],
 "metadata": {
  "kernelspec": {
   "display_name": "Python 3",
   "language": "python",
   "name": "python3"
  },
  "language_info": {
   "codemirror_mode": {
    "name": "ipython",
    "version": 3
   },
   "file_extension": ".py",
   "mimetype": "text/x-python",
   "name": "python",
   "nbconvert_exporter": "python",
   "pygments_lexer": "ipython3",
   "version": "3.10.9"
  }
 },
 "nbformat": 4,
 "nbformat_minor": 2
}
